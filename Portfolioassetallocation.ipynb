{
  "nbformat": 4,
  "nbformat_minor": 0,
  "metadata": {
    "colab": {
      "name": "Copy of Portfolioassetallocation.ipynb",
      "provenance": [],
      "authorship_tag": "ABX9TyPmKMku7spVa2jiZXuRbe6L",
      "include_colab_link": true
    },
    "kernelspec": {
      "name": "python3",
      "display_name": "Python 3"
    }
  },
  "cells": [
    {
      "cell_type": "markdown",
      "metadata": {
        "id": "view-in-github",
        "colab_type": "text"
      },
      "source": [
        "<a href=\"https://colab.research.google.com/github/ecorpnu/portfolio/blob/main/Portfolioassetallocation.ipynb\" target=\"_parent\"><img src=\"https://colab.research.google.com/assets/colab-badge.svg\" alt=\"Open In Colab\"/></a>"
      ]
    },
    {
      "cell_type": "markdown",
      "metadata": {
        "id": "2tSF18kSPMK2"
      },
      "source": [
        "You need to get library ffn, empyrical and PyPortfolioOpt using the pip install. I addded the yfinance as around the time Yahoo was taken over by Verizon, Yahoo decided to change the return data in a format that panda does not recognise, so this is a short work around found in https://github.com/pydata/pandas-datareader/issues/868"
      ]
    },
    {
      "cell_type": "code",
      "metadata": {
        "id": "9Pfo9XHChre-",
        "colab": {
          "base_uri": "https://localhost:8080/"
        },
        "outputId": "64968e01-c2db-459a-9b02-e6efe95f071d"
      },
      "source": [
        "pip install ffn\n"
      ],
      "execution_count": 4,
      "outputs": [
        {
          "output_type": "stream",
          "text": [
            "Collecting ffn\n",
            "  Downloading https://files.pythonhosted.org/packages/76/64/5c63c792646045a095c3a15a841683544b90275c78d214942c96047dbaad/ffn-0.3.6-py2.py3-none-any.whl\n",
            "Requirement already satisfied: scikit-learn>=0.15 in /usr/local/lib/python3.7/dist-packages (from ffn) (0.22.2.post1)\n",
            "Requirement already satisfied: future>=0.15 in /usr/local/lib/python3.7/dist-packages (from ffn) (0.16.0)\n",
            "Requirement already satisfied: matplotlib>=1 in /usr/local/lib/python3.7/dist-packages (from ffn) (3.2.2)\n",
            "Requirement already satisfied: numpy>=1.5 in /usr/local/lib/python3.7/dist-packages (from ffn) (1.19.5)\n",
            "Requirement already satisfied: decorator>=4 in /usr/local/lib/python3.7/dist-packages (from ffn) (4.4.2)\n",
            "Requirement already satisfied: tabulate>=0.7.5 in /usr/local/lib/python3.7/dist-packages (from ffn) (0.8.9)\n",
            "Requirement already satisfied: scipy>=0.15 in /usr/local/lib/python3.7/dist-packages (from ffn) (1.4.1)\n",
            "Requirement already satisfied: pandas-datareader>=0.2 in /usr/local/lib/python3.7/dist-packages (from ffn) (0.9.0)\n",
            "Requirement already satisfied: pandas>=0.19 in /usr/local/lib/python3.7/dist-packages (from ffn) (1.1.5)\n",
            "Requirement already satisfied: joblib>=0.11 in /usr/local/lib/python3.7/dist-packages (from scikit-learn>=0.15->ffn) (1.0.1)\n",
            "Requirement already satisfied: cycler>=0.10 in /usr/local/lib/python3.7/dist-packages (from matplotlib>=1->ffn) (0.10.0)\n",
            "Requirement already satisfied: kiwisolver>=1.0.1 in /usr/local/lib/python3.7/dist-packages (from matplotlib>=1->ffn) (1.3.1)\n",
            "Requirement already satisfied: python-dateutil>=2.1 in /usr/local/lib/python3.7/dist-packages (from matplotlib>=1->ffn) (2.8.1)\n",
            "Requirement already satisfied: pyparsing!=2.0.4,!=2.1.2,!=2.1.6,>=2.0.1 in /usr/local/lib/python3.7/dist-packages (from matplotlib>=1->ffn) (2.4.7)\n",
            "Requirement already satisfied: requests>=2.19.0 in /usr/local/lib/python3.7/dist-packages (from pandas-datareader>=0.2->ffn) (2.23.0)\n",
            "Requirement already satisfied: lxml in /usr/local/lib/python3.7/dist-packages (from pandas-datareader>=0.2->ffn) (4.2.6)\n",
            "Requirement already satisfied: pytz>=2017.2 in /usr/local/lib/python3.7/dist-packages (from pandas>=0.19->ffn) (2018.9)\n",
            "Requirement already satisfied: six in /usr/local/lib/python3.7/dist-packages (from cycler>=0.10->matplotlib>=1->ffn) (1.15.0)\n",
            "Requirement already satisfied: chardet<4,>=3.0.2 in /usr/local/lib/python3.7/dist-packages (from requests>=2.19.0->pandas-datareader>=0.2->ffn) (3.0.4)\n",
            "Requirement already satisfied: certifi>=2017.4.17 in /usr/local/lib/python3.7/dist-packages (from requests>=2.19.0->pandas-datareader>=0.2->ffn) (2021.5.30)\n",
            "Requirement already satisfied: urllib3!=1.25.0,!=1.25.1,<1.26,>=1.21.1 in /usr/local/lib/python3.7/dist-packages (from requests>=2.19.0->pandas-datareader>=0.2->ffn) (1.24.3)\n",
            "Requirement already satisfied: idna<3,>=2.5 in /usr/local/lib/python3.7/dist-packages (from requests>=2.19.0->pandas-datareader>=0.2->ffn) (2.10)\n",
            "Installing collected packages: ffn\n",
            "Successfully installed ffn-0.3.6\n"
          ],
          "name": "stdout"
        }
      ]
    },
    {
      "cell_type": "code",
      "metadata": {
        "colab": {
          "base_uri": "https://localhost:8080/"
        },
        "id": "NZ1GPauv_YKK",
        "outputId": "884956b7-1b33-4237-f254-a28a2664d034"
      },
      "source": [
        "pip install yfinance --upgrade --no-cache-dir"
      ],
      "execution_count": 5,
      "outputs": [
        {
          "output_type": "stream",
          "text": [
            "Collecting yfinance\n",
            "  Downloading https://files.pythonhosted.org/packages/5e/4e/88d31f5509edcbc51bcbb7eeae72516b17ada1bc2ad5b496e2d05d62c696/yfinance-0.1.60.tar.gz\n",
            "Requirement already satisfied, skipping upgrade: pandas>=0.24 in /usr/local/lib/python3.7/dist-packages (from yfinance) (1.1.5)\n",
            "Requirement already satisfied, skipping upgrade: numpy>=1.15 in /usr/local/lib/python3.7/dist-packages (from yfinance) (1.19.5)\n",
            "Requirement already satisfied, skipping upgrade: requests>=2.20 in /usr/local/lib/python3.7/dist-packages (from yfinance) (2.23.0)\n",
            "Requirement already satisfied, skipping upgrade: multitasking>=0.0.7 in /usr/local/lib/python3.7/dist-packages (from yfinance) (0.0.9)\n",
            "Collecting lxml>=4.5.1\n",
            "\u001b[?25l  Downloading https://files.pythonhosted.org/packages/30/c0/d0526314971fc661b083ab135747dc68446a3022686da8c16d25fcf6ef07/lxml-4.6.3-cp37-cp37m-manylinux2014_x86_64.whl (6.3MB)\n",
            "\u001b[K     |████████████████████████████████| 6.3MB 12.1MB/s \n",
            "\u001b[?25hRequirement already satisfied, skipping upgrade: pytz>=2017.2 in /usr/local/lib/python3.7/dist-packages (from pandas>=0.24->yfinance) (2018.9)\n",
            "Requirement already satisfied, skipping upgrade: python-dateutil>=2.7.3 in /usr/local/lib/python3.7/dist-packages (from pandas>=0.24->yfinance) (2.8.1)\n",
            "Requirement already satisfied, skipping upgrade: idna<3,>=2.5 in /usr/local/lib/python3.7/dist-packages (from requests>=2.20->yfinance) (2.10)\n",
            "Requirement already satisfied, skipping upgrade: chardet<4,>=3.0.2 in /usr/local/lib/python3.7/dist-packages (from requests>=2.20->yfinance) (3.0.4)\n",
            "Requirement already satisfied, skipping upgrade: certifi>=2017.4.17 in /usr/local/lib/python3.7/dist-packages (from requests>=2.20->yfinance) (2021.5.30)\n",
            "Requirement already satisfied, skipping upgrade: urllib3!=1.25.0,!=1.25.1,<1.26,>=1.21.1 in /usr/local/lib/python3.7/dist-packages (from requests>=2.20->yfinance) (1.24.3)\n",
            "Requirement already satisfied, skipping upgrade: six>=1.5 in /usr/local/lib/python3.7/dist-packages (from python-dateutil>=2.7.3->pandas>=0.24->yfinance) (1.15.0)\n",
            "Building wheels for collected packages: yfinance\n",
            "  Building wheel for yfinance (setup.py) ... \u001b[?25l\u001b[?25hdone\n",
            "  Created wheel for yfinance: filename=yfinance-0.1.60-py2.py3-none-any.whl size=23819 sha256=2e7878ecabaa5ce330244db85f966b407f82d4ddf15964389e0e9f7b64377ece\n",
            "  Stored in directory: /tmp/pip-ephem-wheel-cache-ueiha3ol/wheels/f0/be/a4/846f02c5985562250917b0ab7b33fff737c8e6e8cd5209aa3b\n",
            "Successfully built yfinance\n",
            "Installing collected packages: lxml, yfinance\n",
            "  Found existing installation: lxml 4.2.6\n",
            "    Uninstalling lxml-4.2.6:\n",
            "      Successfully uninstalled lxml-4.2.6\n",
            "Successfully installed lxml-4.6.3 yfinance-0.1.60\n"
          ],
          "name": "stdout"
        }
      ]
    },
    {
      "cell_type": "code",
      "metadata": {
        "id": "2jzArs_CiPS_",
        "colab": {
          "base_uri": "https://localhost:8080/"
        },
        "outputId": "20597b31-50ad-4143-ab12-5577e34021e3"
      },
      "source": [
        "pip install empyrical\n"
      ],
      "execution_count": 6,
      "outputs": [
        {
          "output_type": "stream",
          "text": [
            "Collecting empyrical\n",
            "\u001b[?25l  Downloading https://files.pythonhosted.org/packages/74/43/1b997c21411c6ab7c96dc034e160198272c7a785aeea7654c9bcf98bec83/empyrical-0.5.5.tar.gz (52kB)\n",
            "\r\u001b[K     |██████▏                         | 10kB 15.3MB/s eta 0:00:01\r\u001b[K     |████████████▍                   | 20kB 19.8MB/s eta 0:00:01\r\u001b[K     |██████████████████▋             | 30kB 17.0MB/s eta 0:00:01\r\u001b[K     |████████████████████████▉       | 40kB 15.2MB/s eta 0:00:01\r\u001b[K     |███████████████████████████████ | 51kB 8.9MB/s eta 0:00:01\r\u001b[K     |████████████████████████████████| 61kB 5.0MB/s \n",
            "\u001b[?25hRequirement already satisfied: numpy>=1.9.2 in /usr/local/lib/python3.7/dist-packages (from empyrical) (1.19.5)\n",
            "Requirement already satisfied: pandas>=0.16.1 in /usr/local/lib/python3.7/dist-packages (from empyrical) (1.1.5)\n",
            "Requirement already satisfied: scipy>=0.15.1 in /usr/local/lib/python3.7/dist-packages (from empyrical) (1.4.1)\n",
            "Requirement already satisfied: pandas-datareader>=0.2 in /usr/local/lib/python3.7/dist-packages (from empyrical) (0.9.0)\n",
            "Requirement already satisfied: python-dateutil>=2.7.3 in /usr/local/lib/python3.7/dist-packages (from pandas>=0.16.1->empyrical) (2.8.1)\n",
            "Requirement already satisfied: pytz>=2017.2 in /usr/local/lib/python3.7/dist-packages (from pandas>=0.16.1->empyrical) (2018.9)\n",
            "Requirement already satisfied: requests>=2.19.0 in /usr/local/lib/python3.7/dist-packages (from pandas-datareader>=0.2->empyrical) (2.23.0)\n",
            "Requirement already satisfied: lxml in /usr/local/lib/python3.7/dist-packages (from pandas-datareader>=0.2->empyrical) (4.6.3)\n",
            "Requirement already satisfied: six>=1.5 in /usr/local/lib/python3.7/dist-packages (from python-dateutil>=2.7.3->pandas>=0.16.1->empyrical) (1.15.0)\n",
            "Requirement already satisfied: idna<3,>=2.5 in /usr/local/lib/python3.7/dist-packages (from requests>=2.19.0->pandas-datareader>=0.2->empyrical) (2.10)\n",
            "Requirement already satisfied: chardet<4,>=3.0.2 in /usr/local/lib/python3.7/dist-packages (from requests>=2.19.0->pandas-datareader>=0.2->empyrical) (3.0.4)\n",
            "Requirement already satisfied: certifi>=2017.4.17 in /usr/local/lib/python3.7/dist-packages (from requests>=2.19.0->pandas-datareader>=0.2->empyrical) (2021.5.30)\n",
            "Requirement already satisfied: urllib3!=1.25.0,!=1.25.1,<1.26,>=1.21.1 in /usr/local/lib/python3.7/dist-packages (from requests>=2.19.0->pandas-datareader>=0.2->empyrical) (1.24.3)\n",
            "Building wheels for collected packages: empyrical\n",
            "  Building wheel for empyrical (setup.py) ... \u001b[?25l\u001b[?25hdone\n",
            "  Created wheel for empyrical: filename=empyrical-0.5.5-cp37-none-any.whl size=39780 sha256=efa03737c382a5851b8df881d744f784182bb5521a10bc2f637414cc0ea02bc2\n",
            "  Stored in directory: /root/.cache/pip/wheels/ea/b2/c8/6769d8444d2f2e608fae2641833110668d0ffd1abeb2e9f3fc\n",
            "Successfully built empyrical\n",
            "Installing collected packages: empyrical\n",
            "Successfully installed empyrical-0.5.5\n"
          ],
          "name": "stdout"
        }
      ]
    },
    {
      "cell_type": "code",
      "metadata": {
        "id": "wxHQx8BTiTfO",
        "colab": {
          "base_uri": "https://localhost:8080/"
        },
        "outputId": "2c4c3cec-3754-4a3c-c2b8-d4a4e3c288c7"
      },
      "source": [
        "pip install PyPortfolioOpt\n",
        "# see https://pyportfolioopt.readthedocs.io/en/latest/UserGuide.html"
      ],
      "execution_count": 7,
      "outputs": [
        {
          "output_type": "stream",
          "text": [
            "Collecting PyPortfolioOpt\n",
            "\u001b[?25l  Downloading https://files.pythonhosted.org/packages/12/dd/bbe51f36f323c4eee59ec94638b24de1daeda9537403c363cbfab8cd1d29/PyPortfolioOpt-1.4.2-py3-none-any.whl (60kB)\n",
            "\u001b[K     |████████████████████████████████| 61kB 5.3MB/s \n",
            "\u001b[?25hRequirement already satisfied: pandas>=0.19 in /usr/local/lib/python3.7/dist-packages (from PyPortfolioOpt) (1.1.5)\n",
            "Requirement already satisfied: numpy<2.0,>=1.12 in /usr/local/lib/python3.7/dist-packages (from PyPortfolioOpt) (1.19.5)\n",
            "Requirement already satisfied: scipy<2.0,>=1.3 in /usr/local/lib/python3.7/dist-packages (from PyPortfolioOpt) (1.4.1)\n",
            "Collecting cvxpy<2.0.0,>=1.1.10\n",
            "\u001b[?25l  Downloading https://files.pythonhosted.org/packages/f0/95/e7eb169a7802fe0c5c50dd7f29c2e9d357b5f29c70adc3f5ca2ab684a04b/cvxpy-1.1.13.tar.gz (1.3MB)\n",
            "\u001b[K     |████████████████████████████████| 1.3MB 11.5MB/s \n",
            "\u001b[?25h  Installing build dependencies ... \u001b[?25l\u001b[?25hdone\n",
            "  Getting requirements to build wheel ... \u001b[?25l\u001b[?25hdone\n",
            "    Preparing wheel metadata ... \u001b[?25l\u001b[?25hdone\n",
            "Requirement already satisfied: pytz>=2017.2 in /usr/local/lib/python3.7/dist-packages (from pandas>=0.19->PyPortfolioOpt) (2018.9)\n",
            "Requirement already satisfied: python-dateutil>=2.7.3 in /usr/local/lib/python3.7/dist-packages (from pandas>=0.19->PyPortfolioOpt) (2.8.1)\n",
            "Requirement already satisfied: osqp>=0.4.1 in /usr/local/lib/python3.7/dist-packages (from cvxpy<2.0.0,>=1.1.10->PyPortfolioOpt) (0.6.2.post0)\n",
            "Requirement already satisfied: ecos>=2 in /usr/local/lib/python3.7/dist-packages (from cvxpy<2.0.0,>=1.1.10->PyPortfolioOpt) (2.0.7.post1)\n",
            "Requirement already satisfied: scs>=1.1.6 in /usr/local/lib/python3.7/dist-packages (from cvxpy<2.0.0,>=1.1.10->PyPortfolioOpt) (2.1.4)\n",
            "Requirement already satisfied: six>=1.5 in /usr/local/lib/python3.7/dist-packages (from python-dateutil>=2.7.3->pandas>=0.19->PyPortfolioOpt) (1.15.0)\n",
            "Requirement already satisfied: qdldl in /usr/local/lib/python3.7/dist-packages (from osqp>=0.4.1->cvxpy<2.0.0,>=1.1.10->PyPortfolioOpt) (0.1.5.post0)\n",
            "Building wheels for collected packages: cvxpy\n",
            "  Building wheel for cvxpy (PEP 517) ... \u001b[?25l\u001b[?25hdone\n",
            "  Created wheel for cvxpy: filename=cvxpy-1.1.13-cp37-cp37m-linux_x86_64.whl size=2736156 sha256=d929635c8e769d757c85c3c0fa4520334e9ab389ee3c25863c6e0839fd1cda83\n",
            "  Stored in directory: /root/.cache/pip/wheels/f9/78/00/f29636789ee83434953b5442f16ec3f9834a68e7fd0393c220\n",
            "Successfully built cvxpy\n",
            "Installing collected packages: cvxpy, PyPortfolioOpt\n",
            "  Found existing installation: cvxpy 1.0.31\n",
            "    Uninstalling cvxpy-1.0.31:\n",
            "      Successfully uninstalled cvxpy-1.0.31\n",
            "Successfully installed PyPortfolioOpt-1.4.2 cvxpy-1.1.13\n"
          ],
          "name": "stdout"
        }
      ]
    },
    {
      "cell_type": "code",
      "metadata": {
        "id": "zlaU4Syp9vQZ"
      },
      "source": [
        "import ffn \n",
        "from empyrical import alpha_beta\n",
        "from pypfopt.efficient_frontier import EfficientFrontier\n",
        "from pypfopt import risk_models\n",
        "from pypfopt import expected_returns\n",
        "from pypfopt import discrete_allocation\n",
        "import matplotlib as pyplot\n",
        "import numpy as np\n",
        "import pandas as pd\n",
        "#the following is needed to work around the problem with yahoo having changed its returned data headings. \n",
        "#import pandas \n",
        "from pandas_datareader import data as pdr\n",
        "import yfinance as yfin\n",
        "yfin.pdr_override()"
      ],
      "execution_count": 65,
      "outputs": []
    },
    {
      "cell_type": "markdown",
      "metadata": {
        "id": "JRTbj5BPqFbE"
      },
      "source": [
        "Here you can play around with the stocks even include ETF. "
      ]
    },
    {
      "cell_type": "code",
      "metadata": {
        "id": "FlVFAGlJONLT",
        "colab": {
          "base_uri": "https://localhost:8080/"
        },
        "outputId": "fa097dd6-6aaf-449c-8129-829611ae867e"
      },
      "source": [
        "prices = ffn.get('IVV,QQQ,BTC-USD,msft,googl,fb',start='2014-09-17')\n",
        "benchmark = ffn.get('IVV', start='2014-09-17')\n",
        "qqq = ffn.get('QQQ', start='2014-09-17')\n",
        "btc = ffn.get('BTC-USD', start='2014-09-17')\n",
        "msft = ffn.get('msft', start='2014-09-17')\n",
        "goog = ffn.get('googl', start='2014-09-17')\n",
        "fb = ffn.get('fb', start='2014-09-17')\n",
        "ax = prices.rebase().plot()"
      ],
      "execution_count": 69,
      "outputs": [
        {
          "output_type": "stream",
          "text": [
            "[*********************100%***********************]  1 of 1 completed\n",
            "[*********************100%***********************]  1 of 1 completed\n",
            "[*********************100%***********************]  1 of 1 completed\n",
            "[*********************100%***********************]  1 of 1 completed\n",
            "[*********************100%***********************]  1 of 1 completed\n",
            "[*********************100%***********************]  1 of 1 completed\n"
          ],
          "name": "stdout"
        }
      ]
    },
    {
      "cell_type": "code",
      "metadata": {
        "id": "mkadOZ6zPlN1"
      },
      "source": [
        "#Problem here with drawing out the graph, need to check out later. \n",
        "#For now skip this step\n",
        "returns = prices.to_returns().dropna()\n",
        "ax = returns.hist(figsize=(10,10))\n"
      ],
      "execution_count": 46,
      "outputs": []
    },
    {
      "cell_type": "code",
      "metadata": {
        "id": "5Lj4RgypT6Hy",
        "colab": {
          "base_uri": "https://localhost:8080/"
        },
        "outputId": "76d64f2b-771e-44b6-d1ee-5b2c74b6b1eb"
      },
      "source": [
        "stats = prices.calc_stats()\n",
        "stats.display()"
      ],
      "execution_count": 70,
      "outputs": [
        {
          "output_type": "stream",
          "text": [
            "Stat                 ivv         qqq         btcusd      msft        googl       fb\n",
            "-------------------  ----------  ----------  ----------  ----------  ----------  ----------\n",
            "Start                2014-09-17  2014-09-17  2014-09-17  2014-09-17  2014-09-17  2014-09-17\n",
            "End                  2021-07-02  2021-07-02  2021-07-02  2021-07-02  2021-07-02  2021-07-02\n",
            "Risk-free rate       0.00%       0.00%       0.00%       0.00%       0.00%       0.00%\n",
            "\n",
            "Total Return         146.53%     283.01%     7311.88%    579.21%     322.25%     364.08%\n",
            "Daily Sharpe         0.83        1.05        1.23        1.18        0.93        0.88\n",
            "Daily Sortino        1.25        1.62        2.06        1.96        1.56        1.42\n",
            "CAGR                 14.21%      21.87%      88.54%      32.60%      23.63%      25.36%\n",
            "Max Drawdown         -33.90%     -28.56%     -83.04%     -28.04%     -30.87%     -42.96%\n",
            "Calmar Ratio         0.42        0.77        1.07        1.16        0.77        0.59\n",
            "\n",
            "MTD                  1.33%       1.19%       -3.26%      2.49%       2.59%       2.01%\n",
            "3m                   8.66%       10.63%      -42.64%     14.83%      17.62%      18.76%\n",
            "6m                   16.78%      14.59%      16.88%      25.41%      42.94%      29.85%\n",
            "YTD                  16.78%      14.59%      16.88%      25.41%      42.94%      29.85%\n",
            "1Y                   41.11%      42.81%      271.54%     35.92%      70.43%      51.96%\n",
            "3Y (ann.)            19.02%      28.44%      72.39%      42.32%      29.92%      21.58%\n",
            "5Y (ann.)            18.05%      28.33%      119.45%     42.66%      28.93%      25.49%\n",
            "10Y (ann.)           -           -           -           -           -           -\n",
            "Since Incep. (ann.)  14.21%      21.87%      88.54%      32.60%      23.63%      25.36%\n",
            "\n",
            "Daily Sharpe         0.83        1.05        1.23        1.18        0.93        0.88\n",
            "Daily Sortino        1.25        1.62        2.06        1.96        1.56        1.42\n",
            "Daily Mean (ann.)    14.98%      22.09%      91.25%      32.02%      24.81%      27.69%\n",
            "Daily Vol (ann.)     18.12%      21.14%      74.01%      27.24%      26.61%      31.56%\n",
            "Daily Skew           -0.67       -0.52       -0.02       0.12        0.45        -0.30\n",
            "Daily Kurt           18.94       9.57        6.21        10.43       9.94        11.16\n",
            "Best Day             9.45%       8.47%       25.25%      14.22%      16.26%      15.52%\n",
            "Worst Day            -11.57%     -11.98%     -37.17%     -14.74%     -11.63%     -18.96%\n",
            "\n",
            "Monthly Sharpe       1.02        1.28        1.18        1.47        1.08        0.98\n",
            "Monthly Sortino      1.80        2.72        3.06        3.31        2.44        2.26\n",
            "Monthly Mean (ann.)  14.48%      21.24%      97.82%      30.48%      23.70%      25.37%\n",
            "Monthly Vol (ann.)   14.16%      16.63%      82.77%      20.68%      21.98%      25.97%\n",
            "Monthly Skew         -0.42       -0.02       0.54        0.15        0.41        0.62\n",
            "Monthly Kurt         1.69        0.13        0.07        0.69        0.59        0.96\n",
            "Best Month           12.68%      14.97%      73.68%      19.63%      21.75%      27.16%\n",
            "Worst Month          -12.13%     -8.66%      -38.19%     -13.02%     -13.24%     -13.34%\n",
            "\n",
            "Yearly Sharpe        1.13        1.18        0.53        2.12        1.40        0.97\n",
            "Yearly Sortino       8.13        452.21      9.75        inf         86.12       2.81\n",
            "Yearly Mean          13.79%      21.58%      274.32%     32.11%      26.08%      27.32%\n",
            "Yearly Vol           12.21%      18.36%      520.53%     15.18%      18.66%      28.09%\n",
            "Yearly Skew          -0.27       0.40        2.38        0.71        -0.71       -1.17\n",
            "Yearly Kurt          -0.49       -1.64       5.89        -0.59       -1.06       1.49\n",
            "Best Year            31.25%      48.41%      1424.72%    57.56%      46.61%      56.57%\n",
            "Worst Year           -4.49%      -0.13%      -74.46%     15.08%      -0.80%      -25.71%\n",
            "\n",
            "Avg. Drawdown        -1.57%      -2.46%      -12.68%     -3.04%      -3.86%      -4.56%\n",
            "Avg. Drawdown Days   15.33       17.02       55.12       19.06       30.73       27.30\n",
            "Avg. Up Month        3.01%       4.44%       23.85%      5.37%       5.49%       6.27%\n",
            "Avg. Down Month      -3.72%      -3.38%      -12.93%     -4.30%      -4.12%      -5.08%\n",
            "Win Year %           85.71%      85.71%      85.71%      100.00%     85.71%      85.71%\n",
            "Win 12m %            91.67%      93.06%      83.33%      97.22%      90.28%      88.89%\n"
          ],
          "name": "stdout"
        },
        {
          "output_type": "stream",
          "text": [
            "/usr/local/lib/python3.7/dist-packages/ffn/core.py:2299: RuntimeWarning: divide by zero encountered in true_divide\n",
            "  res = np.divide(er.mean(), std)\n"
          ],
          "name": "stderr"
        }
      ]
    },
    {
      "cell_type": "code",
      "metadata": {
        "id": "lV21wO3WUibr",
        "colab": {
          "base_uri": "https://localhost:8080/"
        },
        "outputId": "289e7033-d8e3-4f1f-f1ef-a7ffa874761e"
      },
      "source": [
        "alpha, beta = alpha_beta(btc, benchmark)\n",
        "print(beta)"
      ],
      "execution_count": 71,
      "outputs": [
        {
          "output_type": "stream",
          "text": [
            "155.12999324974712\n"
          ],
          "name": "stdout"
        },
        {
          "output_type": "stream",
          "text": [
            "/usr/local/lib/python3.7/dist-packages/empyrical/stats.py:1296: RuntimeWarning: overflow encountered in power\n",
            "  out=out\n"
          ],
          "name": "stderr"
        }
      ]
    },
    {
      "cell_type": "code",
      "metadata": {
        "id": "l7Cku8XvUxKQ",
        "colab": {
          "base_uri": "https://localhost:8080/"
        },
        "outputId": "84e5686e-2760-46ce-8a97-2ab96f49b2ff"
      },
      "source": [
        "returns = prices.pct_change()\n",
        " \n",
        "# mean daily return and covariance of daily returns\n",
        "mean_daily_returns = returns.mean()\n",
        "cov_matrix = returns.cov()\n",
        " \n",
        "# portfolio weights (please make sure weights correspond to your shares above to be 100%, the first refers to the first share)\n",
        "weights = np.asarray([0.1,0.3,0.1,0.25,0.2,0.05])\n",
        " \n",
        "portfolio_return = round(np.sum(mean_daily_returns * weights) * 252,2)\n",
        "portfolio_std_dev = round(np.sqrt(np.dot(weights.T,np.dot(cov_matrix, weights))) * np.sqrt(252),2)\n",
        "\n",
        "print(\"Expected annualised return: \" + str(portfolio_return))\n",
        "print(\"Volatility: \" + str(portfolio_std_dev))"
      ],
      "execution_count": 75,
      "outputs": [
        {
          "output_type": "stream",
          "text": [
            "Expected annualised return: 0.32\n",
            "Volatility: 0.22\n"
          ],
          "name": "stdout"
        }
      ]
    },
    {
      "cell_type": "code",
      "metadata": {
        "id": "6HPiOP41VWv0",
        "colab": {
          "base_uri": "https://localhost:8080/"
        },
        "outputId": "d4b25037-ed82-4b6e-ae65-c5fd6575da30"
      },
      "source": [
        "# Expected returns and sample covariance\n",
        "mu = expected_returns.mean_historical_return(prices)\n",
        "S = risk_models.sample_cov(prices)\n",
        "\n",
        "# Optimise portfolio for maximum Sharpe Ratio\n",
        "ef = EfficientFrontier(mu, S)\n",
        "raw_weights = ef.max_sharpe()\n",
        "cleaned_weights = ef.clean_weights()\n",
        "print(cleaned_weights)\n",
        "#Max Sharpe \n",
        "ef.portfolio_performance(verbose=True)"
      ],
      "execution_count": 76,
      "outputs": [
        {
          "output_type": "stream",
          "text": [
            "OrderedDict([('ivv', 0.0), ('qqq', 0.0), ('btcusd', 0.2754), ('msft', 0.68394), ('googl', 0.0), ('fb', 0.04066)])\n",
            "Expected annual return: 47.9%\n",
            "Annual volatility: 29.6%\n",
            "Sharpe Ratio: 1.55\n"
          ],
          "name": "stdout"
        },
        {
          "output_type": "execute_result",
          "data": {
            "text/plain": [
              "(0.4788630646467588, 0.29647687144192264, 1.5477195992222492)"
            ]
          },
          "metadata": {
            "tags": []
          },
          "execution_count": 76
        }
      ]
    },
    {
      "cell_type": "markdown",
      "metadata": {
        "id": "i2xf2C6cpknr"
      },
      "source": [
        "https://github.com/robertmartin8/PyPortfolioOpt/issues/47  (Function updated) . "
      ]
    },
    {
      "cell_type": "markdown",
      "metadata": {
        "id": "7EqaQlCk9_ma"
      },
      "source": [
        "total_portfolio_value - you need to input a value here corresponding to how much you are putting into the portfolio in cash so we can calculate the number of shares needed"
      ]
    },
    {
      "cell_type": "code",
      "metadata": {
        "id": "9CxndyxnVpD2",
        "colab": {
          "base_uri": "https://localhost:8080/"
        },
        "outputId": "6aded797-8ffb-4fcc-8342-9bc5a5ce662b"
      },
      "source": [
        "from pypfopt.discrete_allocation import DiscreteAllocation, get_latest_prices\n",
        "latest_prices = get_latest_prices(prices)\n",
        "da = DiscreteAllocation(cleaned_weights, latest_prices, total_portfolio_value=135000)\n",
        "allocation, leftover = da.lp_portfolio()\n",
        "print(\"Discrete allocation number of shares:\", allocation)\n",
        "print(\"Funds remaining: ${:.2f}\".format(leftover))\n",
        " "
      ],
      "execution_count": 41,
      "outputs": [
        {
          "output_type": "stream",
          "text": [
            "Discrete allocation number of shares: {'btcusd': 1, 'msft': 298, 'googl': 4, 'fb': 3}\n",
            "Funds remaining: $7278.56\n"
          ],
          "name": "stdout"
        }
      ]
    },
    {
      "cell_type": "code",
      "metadata": {
        "id": "TNS2-7n2parf",
        "colab": {
          "base_uri": "https://localhost:8080/"
        },
        "outputId": "c1f1490d-920d-48ab-88b6-6e40a30a7735"
      },
      "source": [
        "ef = EfficientFrontier(mu, S, weight_bounds=(-1, 1))\n",
        "ef.efficient_return(target_return=0.2, market_neutral=True)"
      ],
      "execution_count": 42,
      "outputs": [
        {
          "output_type": "execute_result",
          "data": {
            "text/plain": [
              "OrderedDict([('ivv', -0.7159936244535975),\n",
              "             ('qqq', 0.1160750361526863),\n",
              "             ('btcusd', 0.1103505945807302),\n",
              "             ('msft', 0.3898579750206955),\n",
              "             ('googl', 0.0759716194939204),\n",
              "             ('fb', 0.0237383992055651)])"
            ]
          },
          "metadata": {
            "tags": []
          },
          "execution_count": 42
        }
      ]
    }
  ]
}